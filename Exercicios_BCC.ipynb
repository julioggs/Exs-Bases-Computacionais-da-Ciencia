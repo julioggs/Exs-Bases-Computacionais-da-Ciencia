{
  "nbformat": 4,
  "nbformat_minor": 0,
  "metadata": {
    "colab": {
      "provenance": []
    },
    "kernelspec": {
      "name": "python3",
      "display_name": "Python 3"
    },
    "language_info": {
      "name": "python"
    }
  },
  "cells": [
    {
      "cell_type": "code",
      "execution_count": null,
      "metadata": {
        "colab": {
          "base_uri": "https://localhost:8080/"
        },
        "id": "9buinOnWVfV2",
        "outputId": "a7b642a2-90d0-4e46-bb39-58072b577518"
      },
      "outputs": [
        {
          "output_type": "execute_result",
          "data": {
            "text/plain": [
              "1.5"
            ]
          },
          "metadata": {},
          "execution_count": 2
        }
      ],
      "source": [
        "# calculo porcentagem\n",
        "15*10/100"
      ]
    },
    {
      "cell_type": "code",
      "source": [
        "# calculo area do circulo\n",
        "import math\n",
        "raio= float(input(\"informe o valor do raio:\" ))\n",
        "area= math.pi * (raio **2)\n",
        "print (\" A área é de : \", round(area,4))"
      ],
      "metadata": {
        "colab": {
          "base_uri": "https://localhost:8080/"
        },
        "id": "V7cEQvZjXwAM",
        "outputId": "aa59a639-829c-4d1e-e986-4f3d98949187"
      },
      "execution_count": null,
      "outputs": [
        {
          "output_type": "stream",
          "name": "stdout",
          "text": [
            "informe o valor do raio:2\n",
            " A área é de :  12.5664\n"
          ]
        }
      ]
    },
    {
      "cell_type": "code",
      "source": [
        "# volume e diagonal do paralelepípedo\n",
        "import math\n",
        "a= float(input())\n",
        "b= float(input())\n",
        "c= float(input())\n",
        "volume= a*b*c\n",
        "print ( \"Volume : {:.2f}\".format(volume))\n",
        "diagonal= math.sqrt (a**2 + b**2 + c**2)\n",
        "print (\"Volume : {:.2f}\".format(volume),\"Diagonal : {:.2f}\".format(diagonal,))"
      ],
      "metadata": {
        "colab": {
          "base_uri": "https://localhost:8080/"
        },
        "id": "frAMA8MLd1To",
        "outputId": "1db17f8c-205b-4e6f-f676-03eb32d64966"
      },
      "execution_count": null,
      "outputs": [
        {
          "output_type": "stream",
          "name": "stdout",
          "text": [
            "1\n",
            "1\n",
            "1\n",
            "Volume : 1.00\n",
            "Volume : 1.00 Diagonal : 1.73\n"
          ]
        }
      ]
    },
    {
      "cell_type": "code",
      "source": [
        "# Conversão de Temperaturas\n",
        "import math\n",
        "C= float(input(\"Temperatura Celsius\"))\n",
        "F= C*1.8+32\n",
        "k= C+273\n",
        "print(int(F),\"F\", int(k),\"K\")"
      ],
      "metadata": {
        "colab": {
          "base_uri": "https://localhost:8080/"
        },
        "id": "-4h_wa9ZWKQO",
        "outputId": "a9b85469-7fb5-48bf-b9ec-e6b84d818752"
      },
      "execution_count": null,
      "outputs": [
        {
          "output_type": "stream",
          "name": "stdout",
          "text": [
            "Temperatura Celsius40.5\n",
            "104 F 313 K\n"
          ]
        }
      ]
    },
    {
      "cell_type": "code",
      "source": [
        "# exponencial, raiz e fração\n",
        "import math\n",
        "a= int(input())\n",
        "b= int(input())\n",
        "x= float(input())\n",
        "y= float(input())\n",
        "expressão= a+ (b**x )- math.sqrt(b) + (a+b)/(x-y)\n",
        "print(\"expressão: {:.2f}\".format(expressão))"
      ],
      "metadata": {
        "id": "lXHqqttUXA_y",
        "colab": {
          "base_uri": "https://localhost:8080/"
        },
        "outputId": "e3db0e7a-09f9-46ba-dada-dadd066e25bf"
      },
      "execution_count": null,
      "outputs": [
        {
          "output_type": "stream",
          "name": "stdout",
          "text": [
            "1\n",
            "2\n",
            "3\n",
            "4\n",
            "expressão: 4.59\n"
          ]
        }
      ]
    },
    {
      "cell_type": "code",
      "source": [
        "#parcelamento\n",
        "import math\n",
        "v=float(input())\n",
        "p=int(input())\n",
        "parcelamento= v/p\n",
        "print(\"R$ {:.2f}\".format(parcelamento))"
      ],
      "metadata": {
        "colab": {
          "base_uri": "https://localhost:8080/"
        },
        "id": "JKWmXd-aCnm4",
        "outputId": "2da4ae39-beb0-4c80-b550-baee3331f619"
      },
      "execution_count": null,
      "outputs": [
        {
          "output_type": "stream",
          "name": "stdout",
          "text": [
            "31\n",
            "6\n",
            "R$ 5.17\n"
          ]
        }
      ]
    },
    {
      "cell_type": "code",
      "source": [
        "#distancia de manhattan\n",
        "import math\n",
        "x1= float(input())\n",
        "y1= float(input())\n",
        "x2= float(input())\n",
        "y2= float(input())\n",
        "D= abs(x1-x2)+abs(y1-y2)\n",
        "print(\"{:.4f}\".format(D))"
      ],
      "metadata": {
        "colab": {
          "base_uri": "https://localhost:8080/"
        },
        "id": "uAob1vsEEZEa",
        "outputId": "75b51b46-240f-4e5f-f327-7ad71e76593a"
      },
      "execution_count": null,
      "outputs": [
        {
          "output_type": "stream",
          "name": "stdout",
          "text": [
            "0\n",
            "0\n",
            "1\n",
            "1\n",
            "2.0000\n"
          ]
        }
      ]
    },
    {
      "cell_type": "code",
      "source": [
        "# equacao de 2 grau\n",
        "import math\n",
        "a= float(input())\n",
        "b= float(input())\n",
        "c= float(input())\n",
        "x= float(input())\n",
        "delta= (b ** 2) - 4 * a * c\n",
        "raiz1= (-b + delta**(1/2)) /(2*a)\n",
        "raiz2= (-b - delta**(1/2))/(2*a)\n",
        "eq1= a*x**2+b*x+c\n",
        "print(\"raizes: {:.2f}\".format(raiz1),\"{:.2f}\".format(raiz2))\n",
        "print(\"resultado pra x = {:.2f}: {:.2f}\".format(x,eq1))"
      ],
      "metadata": {
        "colab": {
          "base_uri": "https://localhost:8080/"
        },
        "id": "veLNsp84EEDk",
        "outputId": "8ed01a1f-3054-49a4-f4de-4cbb91017749"
      },
      "execution_count": null,
      "outputs": [
        {
          "output_type": "stream",
          "name": "stdout",
          "text": [
            "1\n",
            "5\n",
            "6\n",
            "2\n",
            "raizes: -2.00 -3.00\n",
            "resultado pra x=2.00:20.00\n"
          ]
        }
      ]
    },
    {
      "cell_type": "code",
      "source": [
        "#salario com bonus\n",
        "import math\n",
        "nome= str(input())\n",
        "salariofixo= float(input())\n",
        "totalvendas= float(input())\n",
        "comissão= float(input())\n",
        "areceber= salariofixo + totalvendas * comissão/100\n",
        "print((nome),\"deve receber R$ {:.2f}\".format(areceber))\n",
        "\n",
        "\n"
      ],
      "metadata": {
        "colab": {
          "base_uri": "https://localhost:8080/"
        },
        "id": "WLlBjQZwbPZR",
        "outputId": "7560a860-6ebc-4156-f77d-a4b752af3ead"
      },
      "execution_count": null,
      "outputs": [
        {
          "output_type": "stream",
          "name": "stdout",
          "text": [
            "Pedro\n",
            "500\n",
            "1234.56\n",
            "5\n",
            "Pedro deve receber R$ 561.73\n"
          ]
        }
      ]
    },
    {
      "cell_type": "code",
      "source": [
        "#conversão segundos\n",
        "import math\n",
        "s= int(input())\n",
        "H = int(s/3600)\n",
        "M = int((s%3600)/60)\n",
        "segundos = int((s%3600)%60)\n",
        "print(\"%.2d:%.2d:%.2d\" %(H,M,segundos))"
      ],
      "metadata": {
        "id": "Y8yNpVBMgT6z",
        "colab": {
          "base_uri": "https://localhost:8080/"
        },
        "outputId": "fa406134-d7c9-40bb-8edc-50e39cfd8bae"
      },
      "execution_count": null,
      "outputs": [
        {
          "output_type": "stream",
          "name": "stdout",
          "text": [
            "5000\n",
            "01:23:20\n"
          ]
        }
      ]
    },
    {
      "cell_type": "code",
      "source": [
        "#cedulas\n",
        "import math\n",
        "v= int(input())\n",
        "c1= v//100\n",
        "c2= (v-(c1*100))//50\n",
        "c3= (v-((c2*50) + (c1*100)))//20\n",
        "c4= (v-((c3*20) + (c2*50)+ (c1*100)))//10\n",
        "c5= (v-((c4*10) + (c3*20)+(c2*50)+ (c1*100)))//5\n",
        "c6= (v-((c5*5) +(c4*10)+(c3*20)+(c2*50)+ (c1*100)))//2\n",
        "c7= (v-((c6*2)+(c5*5) +(c4*10)++(c3*20)+(c2*50)+ (c1*100)))//1\n",
        "print((c1),\"de 100,\", (c2),\"de 50,\", (c3),\"de 20,\", (c4),\"de 10,\", (c5), \"de 5,\", (c6), \"de 2,\", (c7), \"de 1\")\n"
      ],
      "metadata": {
        "colab": {
          "base_uri": "https://localhost:8080/"
        },
        "id": "Z6u1bPiPm_07",
        "outputId": "642541f4-5a63-4ae2-96ca-d7e5bf1b546f"
      },
      "execution_count": null,
      "outputs": [
        {
          "output_type": "stream",
          "name": "stdout",
          "text": [
            "1791\n",
            "17 de 100, 1 de 50, 2 de 20, 0 de 10, 0 de 5, 0 de 2, 1 de 1\n"
          ]
        }
      ]
    },
    {
      "cell_type": "code",
      "source": [
        "#DDD\n",
        "DDD= int(input())\n",
        "if DDD== 11:\n",
        "  print(\"Sao Paulo\")\n",
        "elif DDD== 61:\n",
        "  print(\"Brasilia\")\n",
        "elif DDD== 71:\n",
        "  print(\"Salvador\")\n",
        "elif DDD== 21:\n",
        "  print(\"Rio de Janeiro\")\n",
        "elif DDD== 32:\n",
        "  print(\"Juiz de Fora\")\n",
        "elif DDD== 19:\n",
        "  print(\"Campinas\")\n",
        "elif DDD== 27:\n",
        "  print(\"Vitoria\")\n",
        "elif DDD== 31:\n",
        "  print(\"Belo Horizonte\")\n",
        "else:\n",
        "  print(\"DDD nao encontrado\")\n",
        "\n",
        "\n"
      ],
      "metadata": {
        "colab": {
          "base_uri": "https://localhost:8080/"
        },
        "id": "9kaXjdgwe_tn",
        "outputId": "a02174ed-305b-427b-d062-e7cb842bbeb0"
      },
      "execution_count": null,
      "outputs": [
        {
          "output_type": "stream",
          "name": "stdout",
          "text": [
            "11\n",
            "Sao Paulo\n"
          ]
        }
      ]
    },
    {
      "cell_type": "code",
      "source": [
        "#intervalo\n",
        "x= float(input())\n",
        "if x>= 0 and x<= 25:\n",
        "  print(\"Intervalo [0,25]\")\n",
        "elif x>= 25 and x<= 50:\n",
        "  print(\"Intervalo (25,50]\")\n",
        "elif x>= 50 and x< 75:\n",
        "  print(\"Intervalo (50,75]\")\n",
        "elif x>= 75 and x<= 100:\n",
        "  print(\"Intervalo (75,100]\")\n",
        "else:\n",
        "  print(\"Fora de intervalo\")"
      ],
      "metadata": {
        "colab": {
          "base_uri": "https://localhost:8080/"
        },
        "id": "Tx5o0Fp6h3zI",
        "outputId": "b81aa714-16eb-4e94-d49e-9325987a66ca"
      },
      "execution_count": null,
      "outputs": [
        {
          "output_type": "stream",
          "name": "stdout",
          "text": [
            "-25\n",
            "Fora de intervalo\n"
          ]
        }
      ]
    },
    {
      "cell_type": "code",
      "source": [
        "#Quadrantes\n",
        "x= float(input())\n",
        "y= float(input())\n",
        "if x>= 0 and y>=0:\n",
        "  print(\"Q1\")\n",
        "elif x<= 0 and y>= 0:\n",
        "  print(\"Q2\")\n",
        "elif x<= 0 and y<= 0:\n",
        "  print(\"Q3\")\n",
        "elif x>=0 and y<=0:\n",
        "  print(\"Q4\")\n",
        "elif y== 0 and x!= 0:\n",
        "  print(\"EIXO X\")\n",
        "elif x== 0 and y!= 0:\n",
        "  print(\"EIXO Y\")\n",
        "elif x==0 and y== 0:\n",
        "  print(\"Origem\")"
      ],
      "metadata": {
        "id": "eRke9hk6ld1z"
      },
      "execution_count": null,
      "outputs": []
    },
    {
      "cell_type": "code",
      "source": [
        "#triangulos\n",
        "import math\n",
        "A= float(input())\n",
        "B= float(input())\n",
        "C= float (input())\n",
        "if  A >= B+C:\n",
        "  print(\"NAO FORMA TRIANGULO\")\n",
        "elif A**2== B**2 + C**2:\n",
        "  print(\"TRIANGULO RETANGULO\")\n",
        "elif A**2 > B**2 + C**2:\n",
        "  print(\"TRIANGULO OBTUSANGULO\")\n",
        "elif A**2 < B**2 + C**2:\n",
        "  print(\"TRIANGULO ACUTANGULO\")\n",
        "if A==B==C:\n",
        "  print(\"TRIANGULO EQUILATERO\")\n",
        "elif A==B or A==C or B==C:\n",
        "  print(\"TRIANGULO ISOSCELES\")\n"
      ],
      "metadata": {
        "colab": {
          "base_uri": "https://localhost:8080/"
        },
        "id": "hyfRw5KQoJIm",
        "outputId": "9d1ef7e7-3708-4213-cf0f-f9819777bc4a"
      },
      "execution_count": null,
      "outputs": [
        {
          "output_type": "stream",
          "name": "stdout",
          "text": [
            "1\n",
            "1\n",
            "1\n",
            "TRIANGULO ACUTANGULO\n",
            "TRIANGULO EQUILATERO\n"
          ]
        }
      ]
    },
    {
      "cell_type": "code",
      "source": [
        "# Meses\n",
        "M= float(input())\n",
        "if M== 1:\n",
        "  print(\"31\")\n",
        "if M== 2:\n",
        "  print(\"28\")\n",
        "if M== 3:\n",
        "  print(\"31\")\n",
        "if M== 4:\n",
        "  print(\"30\")\n",
        "if M== 5:\n",
        "  print(\"31\")\n",
        "if M== 6:\n",
        "  print(\"30\")\n",
        "if M== 7:\n",
        "  print(\"31\")\n",
        "if M== 8:\n",
        "  print(\"31\")\n",
        "if M== 9:\n",
        "  print(\"30\")\n",
        "if M== 10:\n",
        "  print(\"31\")\n",
        "if M== 11:\n",
        "  print(\"30\")\n",
        "if M== 12:\n",
        "  print(\"31\")\n",
        "else:\n",
        "  print(\"0\")"
      ],
      "metadata": {
        "id": "tFeWjlXotXGf"
      },
      "execution_count": null,
      "outputs": []
    },
    {
      "cell_type": "code",
      "source": [
        "#pane seca\n",
        "import math\n",
        "x1= float(input())\n",
        "y1= float(input())\n",
        "x2= float(input())\n",
        "y2= float(input())\n",
        "eficiencia= float(input())\n",
        "litroscombustivel= float(input())\n",
        "distancia= math.sqrt(((x1-x2)**2) + ((y1-y2)**2))\n",
        "conta= distancia/eficiencia\n",
        "if conta > litroscombustivel:\n",
        "  print(\"N\")\n",
        "else:\n",
        "  print(\"S\")\n"
      ],
      "metadata": {
        "colab": {
          "base_uri": "https://localhost:8080/"
        },
        "id": "GHxmuPkvvL0h",
        "outputId": "8b7ad2a7-e835-4add-8b4b-08709419ef67"
      },
      "execution_count": null,
      "outputs": [
        {
          "output_type": "stream",
          "name": "stdout",
          "text": [
            "0\n",
            "0\n",
            "-60.6\n",
            "30.5\n",
            "13.7\n",
            "5\n",
            "S\n"
          ]
        }
      ]
    },
    {
      "cell_type": "code",
      "source": [
        "#festa junina\n",
        "import math\n",
        "pedido= int(input())\n",
        "quantidade= int(input())\n",
        "if pedido== 1:\n",
        "  r= quantidade*8\n",
        "  print(\"R${:.2f}\".format(r))\n",
        "if pedido== 2:\n",
        "  r= quantidade*6\n",
        "  print(\"R${:.2f}\".format(r))\n",
        "if pedido== 3:\n",
        "  r= quantidade*7\n",
        "  print(\"R${:.2f}\".format(r))\n",
        "if pedido== 4:\n",
        "  r= quantidade*5\n",
        "  print(\"R${:.2f}\".format(r))\n",
        "if pedido== 5:\n",
        "  r= quantidade*3\n",
        "  print(\"R${:.2f}\".format(r))\n",
        "if pedido== 6:\n",
        "  r= quantidade*5\n",
        "  print(\"R${:.2f}\".format(r))\n",
        "if pedido== 7:\n",
        "  r= quantidade*5\n",
        "  print(\"R${:.2f}\".format(r))\n",
        "if pedido== 8:\n",
        "  r= quantidade*5\n",
        "  print(\"R${:.2f}\".format(r))\n",
        "if pedido== 9:\n",
        "  r= quantidade*4\n",
        "  print(\"R${:.2f}\".format(r))\n",
        "if pedido== 10:\n",
        "  r= quantidade*4\n",
        "  print(\"R${:.2f}\".format(r))\n",
        "if pedido > 10:\n",
        "  print(\"pedido invalido\")\n",
        "if pedido== 0:\n",
        "  print(\"pedido invalido\")\n",
        "if quantidade < 0:\n",
        "  print(\"quantidade invalida\")"
      ],
      "metadata": {
        "colab": {
          "base_uri": "https://localhost:8080/"
        },
        "id": "v_d__GS01fwb",
        "outputId": "f59b6af4-8a18-44df-d00b-f8213878ce96"
      },
      "execution_count": null,
      "outputs": [
        {
          "output_type": "stream",
          "name": "stdout",
          "text": [
            "2\n",
            "-1\n",
            "R$-6.00\n",
            "quantidade invalida\n"
          ]
        }
      ]
    },
    {
      "cell_type": "code",
      "source": [
        "#polinomios por partes\n",
        "import math\n",
        "x= float(input())\n",
        "if x>= 2 and x<3:\n",
        "  f= ((x-1)**2) + 1\n",
        "  print(\"{:.4f}\".format(f))\n",
        "if x>=3 and x<=7:\n",
        "  f= (1-((x-4)**2)-2)\n",
        "  print(\"{:.4f}\".format(f))\n",
        "if x<2 or x>7:\n",
        "  print(\"2\")"
      ],
      "metadata": {
        "colab": {
          "base_uri": "https://localhost:8080/"
        },
        "id": "XpHCzGRc5uLN",
        "outputId": "1d2cfad4-99b0-434f-8d48-dcb835be246f"
      },
      "execution_count": null,
      "outputs": [
        {
          "output_type": "stream",
          "name": "stdout",
          "text": [
            "1\n",
            "2\n"
          ]
        }
      ]
    },
    {
      "cell_type": "code",
      "source": [],
      "metadata": {
        "id": "zcafPMLdAurT"
      },
      "execution_count": null,
      "outputs": []
    },
    {
      "cell_type": "code",
      "source": [
        "#jogar tenis\n",
        "aspecto= str(input())\n",
        "umidade= str(input())\n",
        "vento= str(input())\n",
        "if aspecto==\"Nuvens\":\n",
        "  print(\"S\")\n",
        "if aspecto==\"Sol\" and umidade==\"Elevada\":\n",
        "  print(\"N\")\n",
        "if aspecto==\"Sol\" and umidade==\"Normal\":\n",
        "  print(\"S\")\n",
        "if aspecto==\"Chuva\" and vento==\"Fraco\":\n",
        "  print(\"S\")\n",
        "if aspecto==\"Chuva\" and vento==\"Forte\":\n",
        "  print(\"N\")\n"
      ],
      "metadata": {
        "colab": {
          "base_uri": "https://localhost:8080/"
        },
        "id": "irTgqKdGAusf",
        "outputId": "55392a9b-2520-43af-d8eb-c0878cfc283c"
      },
      "execution_count": null,
      "outputs": [
        {
          "output_type": "stream",
          "name": "stdout",
          "text": [
            "Sol\n",
            "Elevada\n",
            "Fraco\n",
            "N\n"
          ]
        }
      ]
    },
    {
      "cell_type": "code",
      "source": [
        "#tempo de jogo\n",
        "import math\n",
        "def tempo_jogo(h_inicial,m_inicial,h_final,m_final):\n",
        "  minutos_inicial= h_inicial*60 + m_inicial\n",
        "  minutos_final= h_final*60 + m_final\n",
        "  if minutos_final <= minutos_inicial:\n",
        "    minutos_final+= 24*60\n",
        "\n",
        "  tempo_minutos= minutos_final - minutos_inicial\n",
        "\n",
        "  totalhoras= tempo_minutos // 60\n",
        "\n",
        "  totalminutos= tempo_minutos % 60\n",
        "\n",
        "  return totalhoras,totalminutos\n",
        "\n",
        "def main():\n",
        "  h_inicial= int(input())\n",
        "  m_inicial= int(input())\n",
        "  h_final= int(input())\n",
        "  m_final= int(input())\n",
        "\n",
        "  totalhoras,totalminutos= tempo_jogo(h_inicial,m_inicial,h_final,m_final)\n",
        "\n",
        "  print(f\"{totalhoras}h{totalminutos}m\")\n",
        "\n",
        "main()\n"
      ],
      "metadata": {
        "colab": {
          "base_uri": "https://localhost:8080/"
        },
        "id": "Yl6Ta4dygb1Z",
        "outputId": "49c9f2a6-1b02-4386-85dc-586c48b4bb3e"
      },
      "execution_count": null,
      "outputs": [
        {
          "output_type": "stream",
          "name": "stdout",
          "text": [
            "15\n",
            "30\n",
            "17\n",
            "10\n",
            "1h40m\n"
          ]
        }
      ]
    },
    {
      "cell_type": "code",
      "source": [
        "#tabuada\n",
        "n= int(input())\n",
        "m= int(input())\n",
        "\n",
        "n>= 0\n",
        "m>= 0\n",
        "\n",
        "for cnt in range(m+1):\n",
        "  print(\"%1d x %1d = %1d\" % (n, cnt, n * (cnt)))"
      ],
      "metadata": {
        "colab": {
          "base_uri": "https://localhost:8080/"
        },
        "id": "dJAqORoipiuV",
        "outputId": "e6e0071d-24be-4e4a-e8dd-d0e0a5130ee0"
      },
      "execution_count": null,
      "outputs": [
        {
          "output_type": "stream",
          "name": "stdout",
          "text": [
            "3\n",
            "5\n",
            "3 x 0 = 0\n",
            "3 x 1 = 3\n",
            "3 x 2 = 6\n",
            "3 x 3 = 9\n",
            "3 x 4 = 12\n",
            "3 x 5 = 15\n"
          ]
        }
      ]
    },
    {
      "cell_type": "code",
      "source": [
        "#maquina de soma\n",
        "import math\n",
        "n= int(input())\n",
        "soma= 0\n",
        "for cnt in range(n):\n",
        "  n= float(input())\n",
        "  soma= soma + n\n",
        "print(\"Total %.2f\" % soma)\n",
        "\n"
      ],
      "metadata": {
        "colab": {
          "base_uri": "https://localhost:8080/"
        },
        "id": "XaJ3FwIltbv4",
        "outputId": "e918fa38-c410-4f48-977a-a179e21c59e1"
      },
      "execution_count": null,
      "outputs": [
        {
          "output_type": "stream",
          "name": "stdout",
          "text": [
            "2\n",
            "5\n",
            "5\n",
            "Total 10.00\n"
          ]
        }
      ]
    },
    {
      "cell_type": "code",
      "source": [
        "#jogo do pim\n",
        "import math\n",
        "quantidadePIM= int(input())\n"
      ],
      "metadata": {
        "id": "9a-7tIJFNK_R"
      },
      "execution_count": null,
      "outputs": []
    },
    {
      "cell_type": "code",
      "source": [
        "#ex1\n",
        "import math\n",
        "tipoconta= int(input())\n",
        "if tipoconta== 0:\n",
        "  valor= float(input())\n",
        "  if valor>= 60:\n",
        "    print(\"Bonus Internet = 6 GB\")\n",
        "  if valor>=30 and valor<60:\n",
        "    print(\"Bonus Internet = 4 GB\")\n",
        "  if valor<30:\n",
        "    print(\"sem desconto e sem bonus\")\n",
        "\n",
        "elif tipoconta== 1:\n",
        "  plano= int(input())\n",
        "  if plano== 0:\n",
        "    print(\"sem desconto e sem bonus\")\n",
        "  if plano== 1:\n",
        "    print(\"Bonus Internet = 5 GB\")\n",
        "  if plano== 2:\n",
        "    print(\"Desconto = R$ 20 e Bonus Internet = 7 GB\")\n",
        "\n",
        "\n"
      ],
      "metadata": {
        "colab": {
          "base_uri": "https://localhost:8080/"
        },
        "id": "rXofqUvZnm16",
        "outputId": "b839f064-a221-4082-e763-029dc8830550"
      },
      "execution_count": null,
      "outputs": [
        {
          "output_type": "stream",
          "name": "stdout",
          "text": [
            "1\n",
            "1\n",
            "Bonus Internet = 5 GB\n"
          ]
        }
      ]
    },
    {
      "cell_type": "code",
      "source": [
        "#ex2\n",
        "import math\n",
        "soma= 0\n",
        "for n in range(100000):\n",
        "  n= int(input())\n",
        "  if n== 0:\n",
        "    break\n",
        "\n",
        "  if n>9:\n",
        "    print(\"forneça apenas 1 digito por vez\")\n",
        "\n",
        "  else:\n",
        "    soma = soma + n\n",
        "\n",
        "\n",
        "    print(\"soma parcial =\",soma)\n",
        "\n",
        "\n",
        "print(\"soma total =\",soma)\n",
        "\n",
        "\n",
        "\n",
        "\n",
        "\n",
        "\n",
        "\n",
        "\n",
        "\n"
      ],
      "metadata": {
        "colab": {
          "base_uri": "https://localhost:8080/"
        },
        "id": "97ZhPQqzqZMT",
        "outputId": "eadc40fc-a3e5-4e9b-8c91-a256b775761d"
      },
      "execution_count": null,
      "outputs": [
        {
          "output_type": "stream",
          "name": "stdout",
          "text": [
            "5\n",
            "soma parcial = 5\n",
            "8\n",
            "soma parcial = 13\n",
            "20\n",
            "forneça apenas 1 digito por vez\n",
            "7\n",
            "soma parcial = 20\n",
            "0\n",
            "soma total = 20\n"
          ]
        }
      ]
    },
    {
      "cell_type": "code",
      "source": [
        "import numpy as np\n",
        "\n",
        "redbull = 0\n",
        "ferrari = 0\n",
        "mercedes = 0\n",
        "for i in range(1,23):\n",
        "    print(str(i)+\"a corrida:\")\n",
        "    r = np.random.rand() * 2\n",
        "    f = np.random.rand() * 1.5\n",
        "    m = np.random.rand()\n",
        "    if (r > f and r > m):\n",
        "        print(\"Red Bull venceu!\")\n",
        "        redbull += 25\n",
        "        if (f > m):\n",
        "            print(\"2o lugar: Ferrari\")\n",
        "            print(\"3o lugar: Mercedes\")\n",
        "            ferrari += 18\n",
        "            mercedes += 15\n",
        "        else:\n",
        "            print(\"2o lugar: Mercedes\")\n",
        "            print(\"3o lugar: Ferrari\")\n",
        "            mercedes += 18\n",
        "            ferrari += 15\n",
        "    elif (f > r and f > m):\n",
        "        print(\"Ferrari venceu!\")\n",
        "        ferrari += 25\n",
        "        if (r > m):\n",
        "            print(\"2o lugar: Red Bull\")\n",
        "            print(\"3o lugar: Mercedes\")\n",
        "            redbull += 18\n",
        "            mercedes += 15\n",
        "        else:\n",
        "            print(\"2o lugar: Mercedes\")\n",
        "            print(\"3o lugar: Red Bull\")\n",
        "            mercedes += 18\n",
        "            redbull += 15\n",
        "    else:\n",
        "        print(\"Mercedes venceu!\")\n",
        "        mercedes += 25\n",
        "        if (r > f):\n",
        "            print(\"2o lugar: Red Bull\")\n",
        "            print(\"3o lugar: Ferrari\")\n",
        "            redbull += 18\n",
        "            ferrari += 15\n",
        "        else:\n",
        "            print(\"2o lugar: Ferrari\")\n",
        "            print(\"3o lugar: Red Bull\")\n",
        "            ferrari += 18\n",
        "            redbull += 15\n",
        "    print(\"------------------------------------------------\")\n",
        "\n",
        "if (redbull >= ferrari and redbull >= mercedes):\n",
        "    print(\"CAMPEÃO: Red Bull com\",redbull,\"pontos\")\n",
        "    if (ferrari >= mercedes):\n",
        "        print(\"2o lugar: Ferrari com\",ferrari,\"pontos\")\n",
        "        print(\"3o lugar: Mercedes com\",mercedes,\"pontos\")\n",
        "    else:\n",
        "        print(\"2o lugar: Mercedes com\",mercedes,\"pontos\")\n",
        "        print(\"3o lugar: Ferrari com\",ferrari,\"pontos\")\n",
        "elif (ferrari >= redbull and ferrari >= mercedes):\n",
        "    print(\"CAMPEÃO: Ferrari com\",ferrari,\"pontos\")\n",
        "    if (redbull >= mercedes):\n",
        "        print(\"2o lugar: Red Bull com\",redbull,\"pontos\")\n",
        "        print(\"3o lugar: Mercedes com\",mercedes,\"pontos\")\n",
        "    else:\n",
        "        print(\"2o lugar: Mercedes com\",mercedes,\"pontos\")\n",
        "        print(\"3o lugar: Red Bull com\",redbull,\"pontos\")\n",
        "else:\n",
        "    print(\"CAMPEÃO: Mercedes com\",mercedes,\"pontos\")\n",
        "    if (redbull >= ferrari):\n",
        "        print(\"2o lugar: Red Bull com\",redbull,\"pontos\")\n",
        "        print(\"3o lugar: Ferrari com\",ferrari,\"pontos\")\n",
        "    else:\n",
        "        print(\"2o lugar: Ferrari com\",ferrari,\"pontos\")\n",
        "        print(\"3o lugar: Red Bull com\",redbull,\"pontos\")\n",
        "\n",
        "\n"
      ],
      "metadata": {
        "colab": {
          "base_uri": "https://localhost:8080/"
        },
        "id": "jhyq3Q3S1Sj2",
        "outputId": "f0bce2c4-390f-42a5-a341-3eccf6dc122b"
      },
      "execution_count": null,
      "outputs": [
        {
          "output_type": "stream",
          "name": "stdout",
          "text": [
            "1a corrida:\n",
            "Mercedes venceu!\n",
            "2o lugar: Ferrari\n",
            "3o lugar: Red Bull\n",
            "------------------------------------------------\n",
            "2a corrida:\n",
            "Red Bull venceu!\n",
            "2o lugar: Mercedes\n",
            "3o lugar: Ferrari\n",
            "------------------------------------------------\n",
            "3a corrida:\n",
            "Red Bull venceu!\n",
            "2o lugar: Mercedes\n",
            "3o lugar: Ferrari\n",
            "------------------------------------------------\n",
            "4a corrida:\n",
            "Red Bull venceu!\n",
            "2o lugar: Ferrari\n",
            "3o lugar: Mercedes\n",
            "------------------------------------------------\n",
            "5a corrida:\n",
            "Ferrari venceu!\n",
            "2o lugar: Mercedes\n",
            "3o lugar: Red Bull\n",
            "------------------------------------------------\n",
            "6a corrida:\n",
            "Red Bull venceu!\n",
            "2o lugar: Ferrari\n",
            "3o lugar: Mercedes\n",
            "------------------------------------------------\n",
            "7a corrida:\n",
            "Red Bull venceu!\n",
            "2o lugar: Ferrari\n",
            "3o lugar: Mercedes\n",
            "------------------------------------------------\n",
            "8a corrida:\n",
            "Red Bull venceu!\n",
            "2o lugar: Ferrari\n",
            "3o lugar: Mercedes\n",
            "------------------------------------------------\n",
            "9a corrida:\n",
            "Ferrari venceu!\n",
            "2o lugar: Mercedes\n",
            "3o lugar: Red Bull\n",
            "------------------------------------------------\n",
            "10a corrida:\n",
            "Ferrari venceu!\n",
            "2o lugar: Mercedes\n",
            "3o lugar: Red Bull\n",
            "------------------------------------------------\n",
            "11a corrida:\n",
            "Red Bull venceu!\n",
            "2o lugar: Mercedes\n",
            "3o lugar: Ferrari\n",
            "------------------------------------------------\n",
            "12a corrida:\n",
            "Ferrari venceu!\n",
            "2o lugar: Mercedes\n",
            "3o lugar: Red Bull\n",
            "------------------------------------------------\n",
            "13a corrida:\n",
            "Red Bull venceu!\n",
            "2o lugar: Ferrari\n",
            "3o lugar: Mercedes\n",
            "------------------------------------------------\n",
            "14a corrida:\n",
            "Red Bull venceu!\n",
            "2o lugar: Ferrari\n",
            "3o lugar: Mercedes\n",
            "------------------------------------------------\n",
            "15a corrida:\n",
            "Red Bull venceu!\n",
            "2o lugar: Ferrari\n",
            "3o lugar: Mercedes\n",
            "------------------------------------------------\n",
            "16a corrida:\n",
            "Red Bull venceu!\n",
            "2o lugar: Ferrari\n",
            "3o lugar: Mercedes\n",
            "------------------------------------------------\n",
            "17a corrida:\n",
            "Ferrari venceu!\n",
            "2o lugar: Red Bull\n",
            "3o lugar: Mercedes\n",
            "------------------------------------------------\n",
            "18a corrida:\n",
            "Red Bull venceu!\n",
            "2o lugar: Ferrari\n",
            "3o lugar: Mercedes\n",
            "------------------------------------------------\n",
            "19a corrida:\n",
            "Red Bull venceu!\n",
            "2o lugar: Ferrari\n",
            "3o lugar: Mercedes\n",
            "------------------------------------------------\n",
            "20a corrida:\n",
            "Mercedes venceu!\n",
            "2o lugar: Ferrari\n",
            "3o lugar: Red Bull\n",
            "------------------------------------------------\n",
            "21a corrida:\n",
            "Ferrari venceu!\n",
            "2o lugar: Mercedes\n",
            "3o lugar: Red Bull\n",
            "------------------------------------------------\n",
            "22a corrida:\n",
            "Ferrari venceu!\n",
            "2o lugar: Red Bull\n",
            "3o lugar: Mercedes\n",
            "------------------------------------------------\n",
            "CAMPEÃO: Red Bull com 466 pontos\n",
            "2o lugar: Ferrari com 436 pontos\n",
            "3o lugar: Mercedes com 374 pontos\n"
          ]
        }
      ]
    }
  ]
}